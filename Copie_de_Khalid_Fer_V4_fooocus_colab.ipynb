{
  "cells": [
    {
      "cell_type": "markdown",
      "metadata": {
        "id": "view-in-github",
        "colab_type": "text"
      },
      "source": [
        "<a href=\"https://colab.research.google.com/github/jubakaby/ST_XAVIER_PUC_KALBURGI/blob/main/Copie_de_Khalid_Fer_V4_fooocus_colab.ipynb\" target=\"_parent\"><img src=\"https://colab.research.google.com/assets/colab-badge.svg\" alt=\"Open In Colab\"/></a>"
      ]
    },
    {
      "cell_type": "markdown",
      "source": [
        "For more tools please subscribe to my youtube channel: [khalid fer](https://www.youtube.com/channel/UCARajj-TJdBNT66CjbkZJdQ/)"
      ],
      "metadata": {
        "id": "p2PydXhnx0Fn"
      }
    },
    {
      "cell_type": "code",
      "execution_count": 1,
      "metadata": {
        "id": "VjYy0F2gZIPR",
        "outputId": "a4d92b24-32fa-4dec-e1e1-2113e76cc50b",
        "colab": {
          "base_uri": "https://localhost:8080/"
        }
      },
      "outputs": [
        {
          "output_type": "stream",
          "name": "stdout",
          "text": [
            "Collecting pygit2==1.12.2\n",
            "  Downloading pygit2-1.12.2-cp310-cp310-manylinux_2_17_x86_64.manylinux2014_x86_64.whl (4.9 MB)\n",
            "\u001b[2K     \u001b[90m━━━━━━━━━━━━━━━━━━━━━━━━━━━━━━━━━━━━━━━━\u001b[0m \u001b[32m4.9/4.9 MB\u001b[0m \u001b[31m16.2 MB/s\u001b[0m eta \u001b[36m0:00:00\u001b[0m\n",
            "\u001b[?25hRequirement already satisfied: cffi>=1.9.1 in /usr/local/lib/python3.10/dist-packages (from pygit2==1.12.2) (1.16.0)\n",
            "Requirement already satisfied: pycparser in /usr/local/lib/python3.10/dist-packages (from cffi>=1.9.1->pygit2==1.12.2) (2.21)\n",
            "Installing collected packages: pygit2\n",
            "Successfully installed pygit2-1.12.2\n",
            "/content\n",
            "Cloning into 'Fooocus'...\n",
            "remote: Enumerating objects: 5826, done.\u001b[K\n",
            "remote: Counting objects: 100% (226/226), done.\u001b[K\n",
            "remote: Compressing objects: 100% (162/162), done.\u001b[K\n",
            "remote: Total 5826 (delta 136), reused 117 (delta 60), pack-reused 5600\u001b[K\n",
            "Receiving objects: 100% (5826/5826), 32.69 MiB | 31.11 MiB/s, done.\n",
            "Resolving deltas: 100% (3337/3337), done.\n",
            "/content/Fooocus\n",
            "Already up-to-date\n",
            "Update succeeded.\n",
            "[System ARGV] ['entry_with_update.py', '--share', '--always-high-vram']\n",
            "Python 3.10.12 (main, Nov 20 2023, 15:14:05) [GCC 11.4.0]\n",
            "Fooocus version: 2.3.1\n",
            "Error checking version for torchsde: No package metadata was found for torchsde\n",
            "Installing requirements\n",
            "[Cleanup] Attempting to delete content of temp dir /tmp/fooocus\n",
            "[Cleanup] Cleanup successful\n",
            "Downloading: \"https://huggingface.co/lllyasviel/misc/resolve/main/xlvaeapp.pth\" to /content/Fooocus/models/vae_approx/xlvaeapp.pth\n",
            "\n",
            "100% 209k/209k [00:00<00:00, 7.98MB/s]\n",
            "Downloading: \"https://huggingface.co/lllyasviel/misc/resolve/main/vaeapp_sd15.pt\" to /content/Fooocus/models/vae_approx/vaeapp_sd15.pth\n",
            "\n",
            "100% 209k/209k [00:00<00:00, 7.59MB/s]\n",
            "Downloading: \"https://huggingface.co/lllyasviel/misc/resolve/main/xl-to-v1_interposer-v3.1.safetensors\" to /content/Fooocus/models/vae_approx/xl-to-v1_interposer-v3.1.safetensors\n",
            "\n",
            "100% 6.25M/6.25M [00:00<00:00, 79.0MB/s]\n",
            "Downloading: \"https://huggingface.co/lllyasviel/misc/resolve/main/fooocus_expansion.bin\" to /content/Fooocus/models/prompt_expansion/fooocus_expansion/pytorch_model.bin\n",
            "\n",
            "100% 335M/335M [00:01<00:00, 235MB/s]\n",
            "Downloading: \"https://huggingface.co/lllyasviel/fav_models/resolve/main/fav/juggernautXL_v8Rundiffusion.safetensors\" to /content/Fooocus/models/checkpoints/juggernautXL_v8Rundiffusion.safetensors\n",
            "\n",
            " 94% 6.23G/6.62G [00:35<00:01, 243MB/s]Traceback (most recent call last):\n",
            "  File \"/usr/local/lib/python3.10/dist-packages/torch/hub.py\", line 654, in download_url_to_file\n",
            "    f.write(buffer)\n",
            "KeyboardInterrupt\n",
            "\n",
            "During handling of the above exception, another exception occurred:\n",
            "\n",
            "Traceback (most recent call last):\n",
            "  File \"/content/Fooocus/entry_with_update.py\", line 46, in <module>\n",
            "    from launch import *\n",
            "  File \"/content/Fooocus/launch.py\", line 132, in <module>\n",
            "    config.default_base_model_name, config.checkpoint_downloads = download_models(\n",
            "  File \"/content/Fooocus/launch.py\", line 123, in download_models\n",
            "    load_file_from_url(url=url, model_dir=config.paths_checkpoints[0], file_name=file_name)\n",
            "  File \"/content/Fooocus/modules/model_loader.py\", line 25, in load_file_from_url\n",
            "    download_url_to_file(url, cached_file, progress=progress)\n",
            "  File \"/usr/local/lib/python3.10/dist-packages/torch/hub.py\", line 648, in download_url_to_file\n",
            "    with tqdm(total=file_size, disable=not progress,\n",
            "  File \"/usr/local/lib/python3.10/dist-packages/tqdm/std.py\", line 1154, in __exit__\n",
            "    self.close()\n",
            "  File \"/usr/local/lib/python3.10/dist-packages/tqdm/std.py\", line 1316, in close\n",
            "    self.display(pos=0)\n",
            "  File \"/usr/local/lib/python3.10/dist-packages/tqdm/std.py\", line 1509, in display\n",
            "    self.sp(self.__str__() if msg is None else msg)\n",
            "  File \"/usr/local/lib/python3.10/dist-packages/tqdm/std.py\", line 349, in print_status\n",
            "    len_s = disp_len(s)\n",
            "  File \"/usr/local/lib/python3.10/dist-packages/tqdm/utils.py\", line 338, in disp_len\n",
            "    return _text_width(RE_ANSI.sub('', data))\n",
            "  File \"/usr/local/lib/python3.10/dist-packages/tqdm/utils.py\", line 330, in _text_width\n",
            "    return sum(2 if east_asian_width(ch) in 'FW' else 1 for ch in _unicode(s))\n",
            "  File \"/usr/local/lib/python3.10/dist-packages/tqdm/utils.py\", line 330, in <genexpr>\n",
            "    return sum(2 if east_asian_width(ch) in 'FW' else 1 for ch in _unicode(s))\n",
            "KeyboardInterrupt\n",
            "^C\n"
          ]
        }
      ],
      "source": [
        "!pip install pygit2==1.12.2\n",
        "%cd /content\n",
        "!git clone https://github.com/lllyasviel/Fooocus.git\n",
        "%cd /content/Fooocus\n",
        "!python entry_with_update.py --share --always-high-vram\n"
      ]
    }
  ],
  "metadata": {
    "accelerator": "GPU",
    "colab": {
      "gpuType": "T4",
      "provenance": [],
      "include_colab_link": true
    },
    "kernelspec": {
      "display_name": "Python 3",
      "name": "python3"
    },
    "language_info": {
      "name": "python"
    }
  },
  "nbformat": 4,
  "nbformat_minor": 0
}